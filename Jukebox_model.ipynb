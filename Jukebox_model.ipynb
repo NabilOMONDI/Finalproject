{
 "cells": [
  {
   "cell_type": "code",
   "execution_count": null,
   "metadata": {},
   "outputs": [],
   "source": [
    "import jukebox\n",
    "import torch as t\n",
    "from jukebox.make_models import make_vqvae, make_prior, make_model\n",
    "from jukebox.hparams import setup_hparams\n",
    "from jukebox.sample import sample_partial_window, upsample, save_samples\n",
    "from jukebox.utils.dist_utils import setup_dist_from_mpi\n",
    "from jukebox.utils.logger import init_logging\n",
    "from jukebox.utils.torch_utils import empty_cache\n",
    "\n",
    "# Setup device and hyperparameters\n",
    "dist = setup_dist_from_mpi()\n",
    "fp16 = True\n",
    "hps = setup_hparams(name='5b_lyrics', levels=3, sample_length=1048576, fp16=fp16)\n",
    "\n",
    "# Make models\n",
    "vqvae, priors = make_model(hps, device=dist.device)\n",
    "\n",
    "# Load model weights\n",
    "vqvae.eval()\n",
    "for prior in priors:\n",
    "    prior.eval()\n",
    "\n",
    "# Define the metadata (artist, genre, lyrics)\n",
    "artist = \"The Beatles\"\n",
    "genre = \"Rock\"\n",
    "lyrics = \"Hey Jude, don't make it bad. Take a sad song and make it better...\"\n",
    "\n",
    "# Sample the music\n",
    "sample_hps = setup_hparams(name='5b_lyrics', sample_length=1048576, fp16=fp16)\n",
    "zs = [t.zeros(0, dtype=t.long, device=dist.device) for _ in range(3)]\n",
    "labels = sample_hps.labels[0]\n",
    "sample = sample_partial_window(zs, labels, vqvae, priors, hps)\n",
    "\n",
    "# Save the sample\n",
    "save_samples(sample, sample_hps, labels, vqvae, \"generated_music\")\n"
   ]
  }
 ],
 "metadata": {
  "language_info": {
   "name": "python"
  }
 },
 "nbformat": 4,
 "nbformat_minor": 2
}
