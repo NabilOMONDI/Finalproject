{
 "cells": [
  {
   "cell_type": "code",
   "execution_count": 1,
   "metadata": {},
   "outputs": [
    {
     "name": "stderr",
     "output_type": "stream",
     "text": [
      "2024-07-12 04:38:15.318520: I tensorflow/core/platform/cpu_feature_guard.cc:210] This TensorFlow binary is optimized to use available CPU instructions in performance-critical operations.\n",
      "To enable the following instructions: AVX2 AVX512F AVX512_VNNI FMA, in other operations, rebuild TensorFlow with the appropriate compiler flags.\n",
      "WARNING:absl:Compiled the loaded model, but the compiled metrics have yet to be built. `model.compile_metrics` will be empty until you train or evaluate the model.\n",
      "2024-07-12 04:38:38.067 \n",
      "  \u001b[33m\u001b[1mWarning:\u001b[0m to view this Streamlit app on a browser, run it with the following\n",
      "  command:\n",
      "\n",
      "    streamlit run /opt/anaconda3/lib/python3.11/site-packages/ipykernel_launcher.py [ARGUMENTS]\n"
     ]
    }
   ],
   "source": [
    "import streamlit as st\n",
    "import numpy as np\n",
    "import matplotlib.pyplot as plt\n",
    "from music21 import converter, instrument, note, chord, midi\n",
    "from keras.models import load_model\n",
    "\n",
    "# Load trained model\n",
    "model = load_model('/Users/nabilomondi/Documents/Finalproject/my_model.h5')\n",
    "\n",
    "st.title(\"LSTM MIDI Music Generation\")\n",
    "\n",
    "# Function to parse MIDI file and extract notes\n",
    "def parse_midi(file):\n",
    "    notes = []\n",
    "    midi_data = converter.parse(file)\n",
    "    notes_to_parse = None\n",
    "\n",
    "    try:  # File has instrument parts\n",
    "        parts = instrument.partitionByInstrument(midi_data)\n",
    "        notes_to_parse = parts.parts[0].recurse()\n",
    "    except:  # File has notes in a flat structure\n",
    "        notes_to_parse = midi_data.flat.notes\n",
    "\n",
    "    for element in notes_to_parse:\n",
    "        if isinstance(element, note.Note):\n",
    "            notes.append(str(element.pitch))\n",
    "        elif isinstance(element, chord.Chord):\n",
    "            notes.append('.'.join(str(n) for n in element.normalOrder))\n",
    "\n",
    "    return notes\n",
    "\n",
    "# Function to generate MIDI file from notes\n",
    "def generate_midi(prediction_output, output_file):\n",
    "    offset = 0\n",
    "    output_notes = []\n",
    "\n",
    "    for pattern in prediction_output:\n",
    "        if ('.' in pattern) or pattern.isdigit():\n",
    "            notes_in_chord = pattern.split('.')\n",
    "            notes = []\n",
    "            for current_note in notes_in_chord:\n",
    "                new_note = note.Note(int(current_note))\n",
    "                new_note.storedInstrument = instrument.Piano()\n",
    "                notes.append(new_note)\n",
    "            new_chord = chord.Chord(notes)\n",
    "            new_chord.offset = offset\n",
    "            output_notes.append(new_chord)\n",
    "        else:\n",
    "            new_note = note.Note(pattern)\n",
    "            new_note.offset = offset\n",
    "            new_note.storedInstrument = instrument.Piano()\n",
    "            output_notes.append(new_note)\n",
    "\n",
    "        offset += 0.5\n",
    "\n",
    "    midi_stream = midi.stream.Stream(output_notes)\n",
    "    midi_stream.write('midi', fp=output_file)\n",
    "\n",
    "# File uploader\n",
    "uploaded_file = st.file_uploader(\"Upload a MIDI file\", type=[\"mid\", \"midi\"])\n",
    "\n",
    "if uploaded_file is not None:\n",
    "    st.write(\"### Original MIDI File Notes\")\n",
    "    original_notes = parse_midi(uploaded_file)\n",
    "    st.write(original_notes)\n",
    "\n",
    "    # Assuming your model expects a certain input shape, prepare your input data here\n",
    "    # For example, generating a sequence from the original notes\n",
    "    # model_input = prepare_input(original_notes)\n",
    "\n",
    "    # Generate music using the model (dummy data here, replace with actual model prediction)\n",
    "    # prediction_output = model.predict(model_input)\n",
    "    prediction_output = original_notes[:100]  # Replace with your model output\n",
    "\n",
    "    st.write(\"### Generated MIDI File Notes\")\n",
    "    st.write(prediction_output)\n",
    "\n",
    "    # Save and display the generated MIDI file\n",
    "    output_file = 'generated_music.mid'\n",
    "    generate_midi(prediction_output, output_file)\n",
    "    st.audio(output_file, format='audio/midi')\n",
    "\n",
    "    # Visualization\n",
    "    st.write(\"### Notes Distribution\")\n",
    "    fig, ax = plt.subplots()\n",
    "    ax.hist([note for note in original_notes if note.isdigit()], bins=50, alpha=0.5, label='Original')\n",
    "    ax.hist([note for note in prediction_output if note.isdigit()], bins=50, alpha=0.5, label='Generated')\n",
    "    ax.legend(loc='upper right')\n",
    "    st.pyplot(fig)\n"
   ]
  },
  {
   "cell_type": "code",
   "execution_count": 3,
   "metadata": {},
   "outputs": [
    {
     "name": "stdout",
     "output_type": "stream",
     "text": [
      "Collecting music21\n",
      "  Downloading music21-9.1.0-py3-none-any.whl.metadata (4.8 kB)\n",
      "Requirement already satisfied: chardet in /opt/anaconda3/lib/python3.11/site-packages (from music21) (4.0.0)\n",
      "Requirement already satisfied: joblib in /opt/anaconda3/lib/python3.11/site-packages (from music21) (1.2.0)\n",
      "Collecting jsonpickle (from music21)\n",
      "  Downloading jsonpickle-3.2.2-py3-none-any.whl.metadata (7.2 kB)\n",
      "Requirement already satisfied: matplotlib in /opt/anaconda3/lib/python3.11/site-packages (from music21) (3.8.0)\n",
      "Requirement already satisfied: more-itertools in /opt/anaconda3/lib/python3.11/site-packages (from music21) (10.1.0)\n",
      "Requirement already satisfied: numpy in /opt/anaconda3/lib/python3.11/site-packages (from music21) (1.26.4)\n",
      "Requirement already satisfied: requests in /opt/anaconda3/lib/python3.11/site-packages (from music21) (2.31.0)\n",
      "Collecting webcolors>=1.5 (from music21)\n",
      "  Downloading webcolors-24.6.0-py3-none-any.whl.metadata (2.6 kB)\n",
      "Requirement already satisfied: contourpy>=1.0.1 in /opt/anaconda3/lib/python3.11/site-packages (from matplotlib->music21) (1.2.0)\n",
      "Requirement already satisfied: cycler>=0.10 in /opt/anaconda3/lib/python3.11/site-packages (from matplotlib->music21) (0.11.0)\n",
      "Requirement already satisfied: fonttools>=4.22.0 in /opt/anaconda3/lib/python3.11/site-packages (from matplotlib->music21) (4.25.0)\n",
      "Requirement already satisfied: kiwisolver>=1.0.1 in /opt/anaconda3/lib/python3.11/site-packages (from matplotlib->music21) (1.4.4)\n",
      "Requirement already satisfied: packaging>=20.0 in /opt/anaconda3/lib/python3.11/site-packages (from matplotlib->music21) (23.1)\n",
      "Requirement already satisfied: pillow>=6.2.0 in /opt/anaconda3/lib/python3.11/site-packages (from matplotlib->music21) (10.2.0)\n",
      "Requirement already satisfied: pyparsing>=2.3.1 in /opt/anaconda3/lib/python3.11/site-packages (from matplotlib->music21) (3.0.9)\n",
      "Requirement already satisfied: python-dateutil>=2.7 in /opt/anaconda3/lib/python3.11/site-packages (from matplotlib->music21) (2.8.2)\n",
      "Requirement already satisfied: charset-normalizer<4,>=2 in /opt/anaconda3/lib/python3.11/site-packages (from requests->music21) (2.0.4)\n",
      "Requirement already satisfied: idna<4,>=2.5 in /opt/anaconda3/lib/python3.11/site-packages (from requests->music21) (3.4)\n",
      "Requirement already satisfied: urllib3<3,>=1.21.1 in /opt/anaconda3/lib/python3.11/site-packages (from requests->music21) (2.0.7)\n",
      "Requirement already satisfied: certifi>=2017.4.17 in /opt/anaconda3/lib/python3.11/site-packages (from requests->music21) (2024.6.2)\n",
      "Requirement already satisfied: six>=1.5 in /opt/anaconda3/lib/python3.11/site-packages (from python-dateutil>=2.7->matplotlib->music21) (1.16.0)\n",
      "Downloading music21-9.1.0-py3-none-any.whl (22.8 MB)\n",
      "\u001b[2K   \u001b[90m━━━━━━━━━━━━━━━━━━━━━━━━━━━━━━━━━━━━━━━━\u001b[0m \u001b[32m22.8/22.8 MB\u001b[0m \u001b[31m23.9 MB/s\u001b[0m eta \u001b[36m0:00:00\u001b[0m00:01\u001b[0m00:01\u001b[0m\n",
      "\u001b[?25hDownloading webcolors-24.6.0-py3-none-any.whl (14 kB)\n",
      "Downloading jsonpickle-3.2.2-py3-none-any.whl (41 kB)\n",
      "\u001b[2K   \u001b[90m━━━━━━━━━━━━━━━━━━━━━━━━━━━━━━━━━━━━━━━━\u001b[0m \u001b[32m41.8/41.8 kB\u001b[0m \u001b[31m1.4 MB/s\u001b[0m eta \u001b[36m0:00:00\u001b[0m\n",
      "\u001b[?25hInstalling collected packages: webcolors, jsonpickle, music21\n",
      "Successfully installed jsonpickle-3.2.2 music21-9.1.0 webcolors-24.6.0\n",
      "Note: you may need to restart the kernel to use updated packages.\n"
     ]
    }
   ],
   "source": []
  },
  {
   "cell_type": "code",
   "execution_count": 2,
   "metadata": {},
   "outputs": [
    {
     "name": "stdout",
     "output_type": "stream",
     "text": [
      "(None, 100, 4)\n"
     ]
    }
   ],
   "source": [
    "print(model.input_shape)"
   ]
  },
  {
   "cell_type": "code",
   "execution_count": null,
   "metadata": {},
   "outputs": [],
   "source": []
  }
 ],
 "metadata": {
  "kernelspec": {
   "display_name": "base",
   "language": "python",
   "name": "python3"
  },
  "language_info": {
   "codemirror_mode": {
    "name": "ipython",
    "version": 3
   },
   "file_extension": ".py",
   "mimetype": "text/x-python",
   "name": "python",
   "nbconvert_exporter": "python",
   "pygments_lexer": "ipython3",
   "version": "3.11.9"
  }
 },
 "nbformat": 4,
 "nbformat_minor": 2
}
